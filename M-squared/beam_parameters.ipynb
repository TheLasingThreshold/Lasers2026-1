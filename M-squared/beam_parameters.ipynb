{
 "cells": [
  {
   "cell_type": "code",
   "execution_count": 58,
   "id": "8e9f1cd1-6ceb-4e08-a588-0f1325ea4195",
   "metadata": {},
   "outputs": [],
   "source": [
    "import pandas as pd\n",
    "from pprint import pprint"
   ]
  },
  {
   "cell_type": "code",
   "execution_count": 59,
   "id": "1ce3cb94-6d34-48fa-9cf8-d01537ac3be6",
   "metadata": {},
   "outputs": [],
   "source": [
    "df_filtered = pd.read_csv(\"Figures/Filtered_BeamParameters.csv\")\n",
    "df_raw = pd.read_csv(\"Figures/Raw_BeamParameters.csv\")"
   ]
  },
  {
   "cell_type": "code",
   "execution_count": 63,
   "id": "58499320-a281-44c0-93a4-d0ba28c44b64",
   "metadata": {},
   "outputs": [],
   "source": [
    "data_dict = {\n",
    "    \"Sin filtrar en $x$\": df_raw.iloc[0],\n",
    "    \"Sin filtrar en $y$\": df_raw.iloc[1],\n",
    "    \"Filtrado en $x$\": df_filtered.iloc[0],\n",
    "    \"Filtrado en $y$\": df_filtered.iloc[1]\n",
    "}\n",
    "df_combined = pd.DataFrame(data_dict).transpose()"
   ]
  },
  {
   "cell_type": "code",
   "execution_count": 64,
   "id": "06fdcc6c-cee7-4e7a-a660-05e2e527460d",
   "metadata": {},
   "outputs": [
    {
     "name": "stdout",
     "output_type": "stream",
     "text": [
      "\\begin{tabular}{llllll}\n",
      "\\toprule\n",
      " & Unnamed: 0 & $z_0$ [mm] & $W_0$ [mm] & $M^2$ & $M^2$ / $W_0$ [mm$^{-1}$] \\\\\n",
      "\\midrule\n",
      "Sin filtrar en $x$ & 0 & $(-1.02\\times 10) \\pm (8.54)$ & $(2.13\\times 10^{-1}) \\pm (8.90\\times 10^{-3})$ & $(4.45) \\pm (9.90\\times 10^{-1})$ & $(2.09\\times 10) \\pm (4.73)$ \\\\\n",
      "Sin filtrar en $y$ & 1 & $(-1.20) \\pm (1.41)$ & $(1.72\\times 10^{-1}) \\pm (2.04\\times 10^{-3})$ & $(5.04) \\pm (2.93\\times 10^{-1})$ & $(2.93\\times 10) \\pm (1.73)$ \\\\\n",
      "Filtrado en $x$ & 0 & $(1.10\\times 10) \\pm (8.51\\times 10^{-2})$ & $(3.12\\times 10^{-2}) \\pm (1.53\\times 10^{-3})$ & $(1.10) \\pm (4.60\\times 10^{-2})$ & $(3.51\\times 10) \\pm (2.26)$ \\\\\n",
      "Filtrado en $y$ & 1 & $(1.10\\times 10) \\pm (7.09\\times 10^{-2})$ & $(3.01\\times 10^{-2}) \\pm (1.30\\times 10^{-3})$ & $(1.05) \\pm (3.93\\times 10^{-2})$ & $(3.49\\times 10) \\pm (1.99)$ \\\\\n",
      "\\bottomrule\n",
      "\\end{tabular}\n",
      "\n"
     ]
    }
   ],
   "source": [
    "print(df_combined.to_latex())"
   ]
  },
  {
   "cell_type": "code",
   "execution_count": null,
   "id": "9e734385-8a30-4f4f-ad10-0a340e36cb20",
   "metadata": {},
   "outputs": [],
   "source": []
  }
 ],
 "metadata": {
  "kernelspec": {
   "display_name": "Python 3 (ipykernel)",
   "language": "python",
   "name": "python3"
  },
  "language_info": {
   "codemirror_mode": {
    "name": "ipython",
    "version": 3
   },
   "file_extension": ".py",
   "mimetype": "text/x-python",
   "name": "python",
   "nbconvert_exporter": "python",
   "pygments_lexer": "ipython3",
   "version": "3.10.7"
  }
 },
 "nbformat": 4,
 "nbformat_minor": 5
}
